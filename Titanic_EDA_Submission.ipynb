{
 "cells": [
  {
   "cell_type": "markdown",
   "id": "0d274e48",
   "metadata": {},
   "source": [
    "# 🚢 Titanic Survival Analysis\n",
    "\n",
    "This project performs **Exploratory Data Analysis (EDA)** on the Titanic dataset to identify patterns influencing passenger survival."
   ]
  },
  {
   "cell_type": "markdown",
   "id": "32322cbf",
   "metadata": {},
   "source": [
    "## 📌 Objective\n",
    "To explore the Titanic dataset and derive insights using visual and statistical tools. We'll focus on understanding how features like age, sex, class, and fare influenced survival."
   ]
  },
  {
   "cell_type": "markdown",
   "id": "8bf9b075",
   "metadata": {},
   "source": [
    "## 📂 Dataset Description\n",
    "The dataset contains the following columns:\n",
    "- `PassengerId`: ID\n",
    "- `Survived`: Survival (0 = No, 1 = Yes)\n",
    "- `Pclass`: Class (1st, 2nd, 3rd)\n",
    "- `Name`, `Sex`, `Age`, `SibSp`, `Parch`, `Ticket`, `Fare`, `Cabin`, `Embarked`"
   ]
  },
  {
   "cell_type": "markdown",
   "id": "283fea57",
   "metadata": {},
   "source": [
    "## 🧹 Data Preprocessing"
   ]
  },
  {
   "cell_type": "code",
   "execution_count": null,
   "id": "e8867738",
   "metadata": {},
   "outputs": [],
   "source": [
    "import pandas as pd\n",
    "import numpy as np\n",
    "import matplotlib.pyplot as plt\n",
    "import seaborn as sns\n",
    "\n",
    "# Load the dataset\n",
    "df = pd.read_csv(\"titanic dataset.csv\")\n",
    "df.head()"
   ]
  },
  {
   "cell_type": "code",
   "execution_count": null,
   "id": "ae2770a9",
   "metadata": {},
   "outputs": [],
   "source": [
    "# Check missing values\n",
    "df.isnull().sum()"
   ]
  },
  {
   "cell_type": "code",
   "execution_count": null,
   "id": "95190a80",
   "metadata": {},
   "outputs": [],
   "source": [
    "# Drop columns with too many missing values and fill others\n",
    "df.drop(['Cabin', 'Ticket', 'Name'], axis=1, inplace=True)\n",
    "df['Age'].fillna(df['Age'].median(), inplace=True)\n",
    "df['Embarked'].fillna(df['Embarked'].mode()[0], inplace=True)"
   ]
  },
  {
   "cell_type": "code",
   "execution_count": null,
   "id": "456c421a",
   "metadata": {},
   "outputs": [],
   "source": [
    "# Verify changes\n",
    "df.isnull().sum()"
   ]
  },
  {
   "cell_type": "markdown",
   "id": "ebe6991b",
   "metadata": {},
   "source": [
    "## 📊 Exploratory Data Analysis (EDA)"
   ]
  },
  {
   "cell_type": "code",
   "execution_count": null,
   "id": "ebb01e6e",
   "metadata": {},
   "outputs": [],
   "source": [
    "# Survival counts\n",
    "sns.countplot(data=df, x='Survived')\n",
    "plt.title('Survival Count')\n",
    "plt.show()"
   ]
  },
  {
   "cell_type": "code",
   "execution_count": null,
   "id": "f234304c",
   "metadata": {},
   "outputs": [],
   "source": [
    "# Gender vs Survival\n",
    "sns.countplot(data=df, x='Sex', hue='Survived')\n",
    "plt.title('Survival by Gender')\n",
    "plt.show()"
   ]
  },
  {
   "cell_type": "code",
   "execution_count": null,
   "id": "d8667b26",
   "metadata": {},
   "outputs": [],
   "source": [
    "# Class vs Survival\n",
    "sns.countplot(data=df, x='Pclass', hue='Survived')\n",
    "plt.title('Survival by Class')\n",
    "plt.show()"
   ]
  },
  {
   "cell_type": "code",
   "execution_count": null,
   "id": "c3794dea",
   "metadata": {},
   "outputs": [],
   "source": [
    "# Age distribution by survival\n",
    "sns.histplot(data=df, x='Age', hue='Survived', kde=True)\n",
    "plt.title('Age Distribution by Survival')\n",
    "plt.show()"
   ]
  },
  {
   "cell_type": "code",
   "execution_count": null,
   "id": "f3240a28",
   "metadata": {},
   "outputs": [],
   "source": [
    "# Correlation heatmap\n",
    "sns.heatmap(df.corr(numeric_only=True), annot=True, cmap='coolwarm')\n",
    "plt.title('Feature Correlation Heatmap')\n",
    "plt.show()"
   ]
  },
  {
   "cell_type": "markdown",
   "id": "01eb27ba",
   "metadata": {},
   "source": [
    "## 🔍 Conclusion\n",
    "- **Women** had a higher survival rate.\n",
    "- **1st class passengers** were more likely to survive.\n",
    "- Younger passengers had slightly better chances of survival.\n",
    "- Fare and class showed a strong correlation with survival.\n",
    "\n",
    "This EDA helps highlight the socio-economic and demographic factors behind survival on the Titanic."
   ]
  },
  {
   "cell_type": "markdown",
   "id": "6b431e1c",
   "metadata": {},
   "source": [
    "## 📚 References\n",
    "- Dataset: Titanic (Kaggle)\n",
    "- Tools: Pandas, Matplotlib, Seaborn\n",
    "- Internship Project by Hex Softwares"
   ]
  }
 ],
 "metadata": {},
 "nbformat": 4,
 "nbformat_minor": 5
}
